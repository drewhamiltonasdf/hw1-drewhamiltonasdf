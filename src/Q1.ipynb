{
 "cells": [
  {
   "cell_type": "code",
   "execution_count": null,
   "metadata": {},
   "outputs": [],
   "source": [
    "import Pkg; Pkg.activate(joinpath(@__DIR__,\"..\")); Pkg.instantiate();\n",
    "using LinearAlgebra\n",
    "using JLD2\n",
    "using Test\n",
    "using Statistics\n",
    "const resfile = joinpath(@__DIR__, \"q1.jld2\")"
   ]
  },
  {
   "cell_type": "markdown",
   "metadata": {},
   "source": [
    "# Question 1: Implicit Integrators (25 pts)\n",
    "In this question we'll be taking a deeper look into implicit integration techniques, and some of the advantages they bring."
   ]
  },
  {
   "cell_type": "markdown",
   "metadata": {},
   "source": [
    "## Part (a): Implicit Midpoint (3 pts)\n",
    "Implement implicit midpoint integration for the simple pendulum with $m = l = 1$ and $g = 9.81$:\n",
    "\n",
    "Recall from lecture that implicit integration is defined by the following formula:\n",
    "$$ x_{n+1} = x_n + h f\\left(\\frac{x_{n+1} + x_n}{2}\\right) $$\n",
    "\n",
    "In order to use an implicit integrator, we need to solve a root-finding problem using Newton's method. For convenience, we'll define a function `implicit_midpoint` that outputs \n",
    "the residual error of our integrator:\n",
    "\n",
    "$$ x_n + h f\\left(\\frac{x_{n+1} + x_n}{2}\\right) - x_{n+1} = 0 $$\n",
    "\n",
    "\n",
    "**NOTE**: Our `implicit_midpoint` function accepts as it's first input a function handle `f`. In Julia, functions are themselves objects and can be passed to other functions. For this problem, our function `f` will always be `pendulum_dynamics`, so you'd call your implicit midpoint method like: `implicit_midpoint(pendulum_dynamics, x1, x2, h)`"
   ]
  },
  {
   "cell_type": "code",
   "execution_count": null,
   "metadata": {},
   "outputs": [],
   "source": [
    "# TASK: Implement the `pendulum_dynamics` function\n",
    "#  TIP: When allocating the xdot vector, be sure to use `zero(x)` to make it the same type as the input vector.\n",
    "#       This makes it work with ForwardDiff, since `eltype(x)` will be a ForwardDiff.Dual type.\n",
    "\"\"\"\n",
    "    pendulum_dynamics(x; [m, l, g])\n",
    "\n",
    "Returns the derivative of the state vector `x = [θ, ω]`, given mass `m`, length `l`, and gravity `g`.\n",
    "\"\"\"\n",
    "function pendulum_dynamics(x; m=1, l=1, g=9.81)\n",
    "    # TODO: Implement this method\n",
    "    xdot = zero(x)\n",
    "    return xdot\n",
    "end\n",
    "\n",
    "# TASK: Implement the `implicit_midpoint_pendulum!` function\n",
    "\"\"\"\n",
    "    x2 = implicit_midpoint(f, x1, x2, h)\n",
    "\n",
    "Evaluate the residual of the implicit midpoint integrator for the dynamics `f` with a time step of `h`.\n",
    "The dynamics function `f` is expected to take a state vector as an argument. \n",
    "\"\"\"\n",
    "function implicit_midpoint(f, x1, x2, h)\n",
    "    # TODO: Implement this method\n",
    "    out = zero(x2)\n",
    "    return out\n",
    "end"
   ]
  },
  {
   "cell_type": "code",
   "execution_count": null,
   "metadata": {},
   "outputs": [],
   "source": [
    "@testset \"1a\" begin                                                            # POINTS = 3\n",
    "    f = pendulum_dynamics\n",
    "    x1 = [0.12, -1.5]\n",
    "    x2 = [-0.5, 10.2]\n",
    "    h = 0.1\n",
    "    @testset \"pendulum dynamics\" begin                                         # POINTS = 1\n",
    "        @test pendulum_dynamics([0,0.]) ≈ zeros(2)                             # POINTS = 0\n",
    "        @test pendulum_dynamics(x1) ≈ load(resfile, \"xdot\")                    # POINTS = 1\n",
    "    end\n",
    "    @testset \"implicit midpoint\" begin                                         # POINTS = 2\n",
    "        @test implicit_midpoint(f, zeros(2), zeros(2), h) ≈ zeros(2)           # POINTS = 0\n",
    "        @test implicit_midpoint(f, x1, x1, 0) ≈ zeros(2)                       # POINTS = 1\n",
    "        @test implicit_midpoint(f, x1, x2, h) ≈ load(resfile, \"midpoint_res\")  # POINTS = 1\n",
    "    end\n",
    "end;"
   ]
  },
  {
   "cell_type": "markdown",
   "metadata": {},
   "source": [
    "## Part (b): Solve using Newton's Method (10 pts)\n",
    "Use Newton's method to solve for $x_{n+1}$ with initial guess $x_{n+1} = x_n$. Solve such that the 2-norm of the residual is less than 1e-6. \n",
    "\n",
    "Recall that Newton's method is an interative root-finding method. Each iteration looks like:\n",
    "\n",
    "$$ x^{(i+1)} = x^{(i)} - \\frac{\\partial f}{\\partial x}^{-1} f(x) $$\n",
    "\n",
    "**NOTE**: It should take 5 iterations or less. If it's taking more iterations than that, you're doing something wrong."
   ]
  },
  {
   "cell_type": "code",
   "execution_count": null,
   "metadata": {},
   "outputs": [],
   "source": [
    "# TASK: Complete the following function\n",
    "using ForwardDiff\n",
    "\"\"\"\n",
    "    implicit_midpoint_solve!(f,x1,x2,h)\n",
    "\n",
    "Find the `x2` that satisfies implicit midpoint integration for the pendulum dynamics. \n",
    "\n",
    "Should modify `x2` in-place and return a vector of 2-norm residuals. The input value of `x2`\n",
    "should be used as the initial guess.\n",
    "\"\"\"\n",
    "function implicit_midpoint_solve!(f, x1, x2, h; ϵ=1e-6)::Vector{Float64}\n",
    "    # TODO: Implement this function. Feel free to add optional input arguments as needed\n",
    "    residuals = Float64[]\n",
    "    \n",
    "    return residuals\n",
    "end"
   ]
  },
  {
   "cell_type": "code",
   "execution_count": null,
   "metadata": {},
   "outputs": [],
   "source": [
    "@testset \"1b\" begin                                # POINTS = 10\n",
    "    f = pendulum_dynamics\n",
    "    x0 = [deg2rad(45), 0]\n",
    "    h = 0.1\n",
    "    @testset \"Implicit Midpoint Solve\" begin       # POINTS = 10\n",
    "        x_next = copy(x0)\n",
    "        residuals = implicit_midpoint_solve!(pendulum_dynamics, x0, x_next, h)\n",
    "        @test residuals[end] < 1e-6                # POINTS = 4\n",
    "        @test length(residuals) < 5                # POINTS = 1\n",
    "        @test x_next ≈ load(resfile, \"x_next\")     # POINTS = 5\n",
    "    end\n",
    "end;"
   ]
  },
  {
   "cell_type": "markdown",
   "metadata": {},
   "source": [
    "## Part (c): Energy Analysis (2 pts)\n",
    "Simulate with $h=0.1$ for 1 hour and plot the total energy of the system vs time:\n",
    "$$ E = \\frac{1}{2} m l^2 \\omega^2 + m g l (1 - \\cos \\theta) $$\n",
    "\n",
    "Start the simulation with an initial state of 45 degrees and zero velocity."
   ]
  },
  {
   "cell_type": "code",
   "execution_count": null,
   "metadata": {},
   "outputs": [],
   "source": [
    "# TASK: Compute the energy of the system. Store the result in the vector `energy_implicit::Vector{Float64}`\n",
    "using Plots\n",
    "energy_implicit = Float64[]"
   ]
  },
  {
   "cell_type": "code",
   "execution_count": null,
   "metadata": {},
   "outputs": [],
   "source": [
    "@testset \"1c\" begin                                                                  # POINTS = 2\n",
    "    @test mean(energy_implicit) ≈ load(resfile, \"implicit_energy_mean\") atol = 1e-3  # POINTS = 1\n",
    "    @test std(energy_implicit) < 0.05                                                # POINTS = 1\n",
    "end;"
   ]
  },
  {
   "cell_type": "markdown",
   "metadata": {},
   "source": [
    "## Part (d): RK4 Comparison (5 pts)\n",
    "Compare the energy behavior of the implicit midpoint integrator with a 4th order Runge Kutta integrator."
   ]
  },
  {
   "cell_type": "code",
   "execution_count": null,
   "metadata": {},
   "outputs": [],
   "source": [
    "# TASK: implement a 4th order Runge Kutta integrator for the pendulum (3 pts)\n",
    "\"\"\"\n",
    "    rk4(f, x, h)\n",
    "\n",
    "Integrate the dynamics `f(x)` with a 4th Order Runge Kutta method at state vector `x` and time step `h`.\n",
    "\"\"\"\n",
    "function rk4(f, x, h)\n",
    "    # TODO: implement\n",
    "    xnext = zero(x)\n",
    "    \n",
    "    return xnext\n",
    "end"
   ]
  },
  {
   "cell_type": "code",
   "execution_count": null,
   "metadata": {},
   "outputs": [],
   "source": [
    "@testset \"1d\" begin                                # POINTS = 1\n",
    "    @testset \"rk4\" begin                           # POINTS = 1\n",
    "        f = pendulum_dynamics\n",
    "        x = [-0.12, 1.37]\n",
    "        h = 0.1\n",
    "        @test rk4(f, x, h) ≈ load(resfile, \"rk4\")  # POINTS = 1\n",
    "    end\n",
    "end;"
   ]
  },
  {
   "cell_type": "code",
   "execution_count": null,
   "metadata": {},
   "outputs": [],
   "source": [
    "# TASK: Compute the energy behavior of rk4. Store the result in `energy_rk4::Vector{Float64}` (1 pt)\n",
    "# TASK: Generate a plot of energy vs time comparing implicit midpoint with rk4 (1 pt)\n",
    "energy_rk4 = Float64[]"
   ]
  },
  {
   "cell_type": "code",
   "execution_count": null,
   "metadata": {},
   "outputs": [],
   "source": [
    "@testset \"1d\" begin                                                   # POINTS = 4\n",
    "    @testset \"energy comparison\" begin                                # POINTS = 4\n",
    "        @test length(energy_rk4) == length(energy_implicit)\n",
    "        @test energy_rk4[end] < energy_implicit[end]                  # POINTS = 1\n",
    "        @test mean(diff(energy_rk4)) ≈ -2.5e-5 atol=1e-5              # POINTS = 2\n",
    "        @test std(diff(energy_rk4)) < 1e-3  # should be about linear  # POINTS = 1\n",
    "    end\n",
    "end;"
   ]
  },
  {
   "cell_type": "markdown",
   "metadata": {
    "tags": []
   },
   "source": [
    "## Part (e): Evaluating the Jacobian (5 pts)\n",
    "Computing the Jacobian for an explicit integrator like RK4 is straightforward, since it's just a basic application of the chain rule (you should do this for practice, and can check your result with ForwardDiff). \n",
    "\n",
    "Computing the Jacobian for an implicit integrator is not as trivial since we use Newton's method to compute the next step. However, we can use the [implicit function theorem](https://en.wikipedia.org/wiki/Implicit_function_theorem), which can be easily derived by taking a 1st order Taylor series expansion of $f(x,y) = 0$:\n",
    "$$ f(x,y) = 0 \\implies f(x + \\Delta x, y + \\Delta y) \\approx f(x,y) + \\frac{\\partial f}{\\partial x} \\Delta x + \\frac{\\partial f}{\\partial y} \\Delta y = 0 $$\n",
    "Dropping $f(x,y)$ (since it's zero) and solving for $\\Delta x$ we obtain an expression for our Jacobian:\n",
    "$$ \\Delta x = -\\frac{\\partial f}{\\partial x}^{-1} \\frac{\\partial f}{\\partial y} \\Delta y $$\n",
    "\n",
    "Use this to compute the Jacobian of the implicit integrator, evaluated at $\\theta_1 = \\omega_1 = 0$ with $h = 0.1$. "
   ]
  },
  {
   "cell_type": "code",
   "execution_count": null,
   "metadata": {},
   "outputs": [],
   "source": [
    "# TASK: Compute the Jacobian of the implicit midpoint integrator for h = 0.1. (3 pts)\n",
    "#       Store the result in `Amid::Matrix{Float64}` of size (2,2)\n",
    "Amid = zeros(2,2)"
   ]
  },
  {
   "cell_type": "code",
   "execution_count": null,
   "metadata": {},
   "outputs": [],
   "source": [
    "# TASK: Compute the magnitude of the eigenvalues of A for 0 ≤ h ≤ 1.  (1 pt)\n",
    "#       Store the result in `eigs_implicit::Matrix{Float64}` of size (100,2)\n",
    "eigs_implicit = zeros(100,2)\n",
    "\n",
    "# TASK: Plot the eigenvalues vs time step (1 pt)"
   ]
  },
  {
   "cell_type": "markdown",
   "metadata": {},
   "source": [
    "Obviously something special is going on here. Implicit midpoint is a \"symplectic\" integrator. That means it conserves energy (up to numerical roundoff/truncation error). Implicit midpoint is also the simplest \"collocation\" method. More about those later..."
   ]
  },
  {
   "cell_type": "code",
   "execution_count": null,
   "metadata": {},
   "outputs": [],
   "source": [
    "@testset \"1e\" begin                               # POINTS = 5\n",
    "    @test size(eigs_implicit) == (100,2)          # POINTS = 0\n",
    "    @test mean(eigs_implicit) ≈ 1.0 atol=1e-6     # POINTS = 2\n",
    "    @test std(eigs_implicit) ≈ 0 atol=1e-10       # POINTS = 2\n",
    "    @test Amid ≈ load(resfile, \"Amid\") atol=1e-6  # POINTS = 1\n",
    "end;"
   ]
  }
 ],
 "metadata": {
  "kernelspec": {
   "display_name": "Julia 1.6.5",
   "language": "julia",
   "name": "julia-1.6"
  },
  "language_info": {
   "file_extension": ".jl",
   "mimetype": "application/julia",
   "name": "julia",
   "version": "1.6.5"
  }
 },
 "nbformat": 4,
 "nbformat_minor": 4
}
